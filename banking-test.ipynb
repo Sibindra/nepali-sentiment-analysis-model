{
 "cells": [
  {
   "cell_type": "markdown",
   "id": "5f143249",
   "metadata": {
    "id": "3HZowwbQXAi9",
    "papermill": {
     "duration": 0.013301,
     "end_time": "2024-05-30T00:44:15.809819",
     "exception": false,
     "start_time": "2024-05-30T00:44:15.796518",
     "status": "completed"
    },
    "tags": []
   },
   "source": [
    "### Importing Data and libs"
   ]
  },
  {
   "cell_type": "code",
   "execution_count": 1,
   "id": "ac8b0580",
   "metadata": {
    "execution": {
     "iopub.execute_input": "2024-05-30T00:44:15.835649Z",
     "iopub.status.busy": "2024-05-30T00:44:15.835167Z",
     "iopub.status.idle": "2024-05-30T00:44:15.863869Z",
     "shell.execute_reply": "2024-05-30T00:44:15.861981Z"
    },
    "id": "tAg_7lQ92hEG",
    "outputId": "d6cab275-5937-48fd-8a13-3895c6ce3704",
    "papermill": {
     "duration": 0.045225,
     "end_time": "2024-05-30T00:44:15.867219",
     "exception": false,
     "start_time": "2024-05-30T00:44:15.821994",
     "status": "completed"
    },
    "tags": []
   },
   "outputs": [
    {
     "name": "stdout",
     "output_type": "stream",
     "text": [
      "/kaggle/input/bank-account-fraud-dataset-neurips-2022/Base.csv\n",
      "/kaggle/input/bank-account-fraud-dataset-neurips-2022/Variant IV.csv\n",
      "/kaggle/input/bank-account-fraud-dataset-neurips-2022/Variant V.csv\n",
      "/kaggle/input/bank-account-fraud-dataset-neurips-2022/Variant I.csv\n",
      "/kaggle/input/bank-account-fraud-dataset-neurips-2022/Variant III.csv\n",
      "/kaggle/input/bank-account-fraud-dataset-neurips-2022/Variant II.csv\n"
     ]
    }
   ],
   "source": [
    "# This Python 3 environment comes with many helpful analytics libraries installed\n",
    "# It is defined by the kaggle/python Docker image: https://github.com/kaggle/docker-python\n",
    "# For example, here's several helpful packages to load\n",
    "# Input data files are available in the read-only \"../input/\" directory\n",
    "# For example, running this (by clicking run or pressing Shift+Enter) will list all files under the input directory\n",
    "\n",
    "import os\n",
    "for dirname, _, filenames in os.walk('/kaggle/input'):\n",
    "    for filename in filenames:\n",
    "        print(os.path.join(dirname, filename))\n",
    "\n",
    "# You can write up to 20GB to the current directory (/kaggle/working/) that gets preserved as output when you create a version using \"Save & Run All\" \n",
    "# You can also write temporary files to /kaggle/temp/, but they won't be saved outside of the current session"
   ]
  },
  {
   "cell_type": "code",
   "execution_count": 2,
   "id": "82b79bf4",
   "metadata": {
    "execution": {
     "iopub.execute_input": "2024-05-30T00:44:15.892784Z",
     "iopub.status.busy": "2024-05-30T00:44:15.891584Z",
     "iopub.status.idle": "2024-05-30T00:44:15.898289Z",
     "shell.execute_reply": "2024-05-30T00:44:15.897017Z"
    },
    "papermill": {
     "duration": 0.022161,
     "end_time": "2024-05-30T00:44:15.901007",
     "exception": false,
     "start_time": "2024-05-30T00:44:15.878846",
     "status": "completed"
    },
    "tags": []
   },
   "outputs": [
    {
     "name": "stdout",
     "output_type": "stream",
     "text": [
      "['bank-account-fraud-dataset-neurips-2022']\n"
     ]
    }
   ],
   "source": [
    "print(os.listdir('/kaggle/input/'))"
   ]
  },
  {
   "cell_type": "code",
   "execution_count": 3,
   "id": "85d0ce0c",
   "metadata": {
    "execution": {
     "iopub.execute_input": "2024-05-30T00:44:15.929522Z",
     "iopub.status.busy": "2024-05-30T00:44:15.929063Z",
     "iopub.status.idle": "2024-05-30T00:44:16.867450Z",
     "shell.execute_reply": "2024-05-30T00:44:16.866123Z"
    },
    "id": "OnRpiRnsUSOS",
    "papermill": {
     "duration": 0.95375,
     "end_time": "2024-05-30T00:44:16.870140",
     "exception": false,
     "start_time": "2024-05-30T00:44:15.916390",
     "status": "completed"
    },
    "tags": []
   },
   "outputs": [],
   "source": [
    "import pandas as pd\n",
    "import numpy as np\n",
    "import matplotlib.pyplot as plt"
   ]
  },
  {
   "cell_type": "code",
   "execution_count": 4,
   "id": "07af7dfb",
   "metadata": {
    "execution": {
     "iopub.execute_input": "2024-05-30T00:44:16.895367Z",
     "iopub.status.busy": "2024-05-30T00:44:16.894167Z",
     "iopub.status.idle": "2024-05-30T00:44:24.186506Z",
     "shell.execute_reply": "2024-05-30T00:44:24.185303Z"
    },
    "id": "HLGelNlpWDwq",
    "papermill": {
     "duration": 7.307811,
     "end_time": "2024-05-30T00:44:24.189314",
     "exception": false,
     "start_time": "2024-05-30T00:44:16.881503",
     "status": "completed"
    },
    "tags": []
   },
   "outputs": [],
   "source": [
    "dataset = pd.read_csv('/kaggle/input/bank-account-fraud-dataset-neurips-2022/Base.csv')"
   ]
  },
  {
   "cell_type": "code",
   "execution_count": 5,
   "id": "9ba05475",
   "metadata": {
    "execution": {
     "iopub.execute_input": "2024-05-30T00:44:24.214365Z",
     "iopub.status.busy": "2024-05-30T00:44:24.213459Z",
     "iopub.status.idle": "2024-05-30T00:44:24.219410Z",
     "shell.execute_reply": "2024-05-30T00:44:24.218223Z"
    },
    "id": "KVvDD1mVGnq0",
    "outputId": "4879935d-b610-4ed5-ae94-0b1cc5caef8c",
    "papermill": {
     "duration": 0.021313,
     "end_time": "2024-05-30T00:44:24.222076",
     "exception": false,
     "start_time": "2024-05-30T00:44:24.200763",
     "status": "completed"
    },
    "tags": []
   },
   "outputs": [
    {
     "name": "stdout",
     "output_type": "stream",
     "text": [
      "(1000000, 32)\n"
     ]
    }
   ],
   "source": [
    "print(dataset.shape)"
   ]
  },
  {
   "cell_type": "code",
   "execution_count": 6,
   "id": "99cfb759",
   "metadata": {
    "execution": {
     "iopub.execute_input": "2024-05-30T00:44:24.247806Z",
     "iopub.status.busy": "2024-05-30T00:44:24.246994Z",
     "iopub.status.idle": "2024-05-30T00:44:24.254390Z",
     "shell.execute_reply": "2024-05-30T00:44:24.253238Z"
    },
    "id": "-hhNyvyxWTWx",
    "outputId": "6aa55d25-7f6d-488c-f2e4-27fc420616ea",
    "papermill": {
     "duration": 0.022314,
     "end_time": "2024-05-30T00:44:24.256775",
     "exception": false,
     "start_time": "2024-05-30T00:44:24.234461",
     "status": "completed"
    },
    "tags": []
   },
   "outputs": [
    {
     "name": "stdout",
     "output_type": "stream",
     "text": [
      "Index(['fraud_bool', 'income', 'name_email_similarity',\n",
      "       'prev_address_months_count', 'current_address_months_count',\n",
      "       'customer_age', 'days_since_request', 'intended_balcon_amount',\n",
      "       'payment_type', 'zip_count_4w', 'velocity_6h', 'velocity_24h',\n",
      "       'velocity_4w', 'bank_branch_count_8w',\n",
      "       'date_of_birth_distinct_emails_4w', 'employment_status',\n",
      "       'credit_risk_score', 'email_is_free', 'housing_status',\n",
      "       'phone_home_valid', 'phone_mobile_valid', 'bank_months_count',\n",
      "       'has_other_cards', 'proposed_credit_limit', 'foreign_request', 'source',\n",
      "       'session_length_in_minutes', 'device_os', 'keep_alive_session',\n",
      "       'device_distinct_emails_8w', 'device_fraud_count', 'month'],\n",
      "      dtype='object')\n"
     ]
    }
   ],
   "source": [
    "print(dataset.columns)"
   ]
  },
  {
   "cell_type": "code",
   "execution_count": 7,
   "id": "7dc7ff00",
   "metadata": {
    "execution": {
     "iopub.execute_input": "2024-05-30T00:44:24.281836Z",
     "iopub.status.busy": "2024-05-30T00:44:24.280876Z",
     "iopub.status.idle": "2024-05-30T00:44:24.877361Z",
     "shell.execute_reply": "2024-05-30T00:44:24.876031Z"
    },
    "id": "y7UalfI7WV7o",
    "outputId": "e2b9034e-b43c-4006-e3ed-eaf18832a422",
    "papermill": {
     "duration": 0.61238,
     "end_time": "2024-05-30T00:44:24.880675",
     "exception": false,
     "start_time": "2024-05-30T00:44:24.268295",
     "status": "completed"
    },
    "tags": []
   },
   "outputs": [
    {
     "name": "stdout",
     "output_type": "stream",
     "text": [
      "<class 'pandas.core.frame.DataFrame'>\n",
      "RangeIndex: 1000000 entries, 0 to 999999\n",
      "Data columns (total 32 columns):\n",
      " #   Column                            Non-Null Count    Dtype  \n",
      "---  ------                            --------------    -----  \n",
      " 0   fraud_bool                        1000000 non-null  int64  \n",
      " 1   income                            1000000 non-null  float64\n",
      " 2   name_email_similarity             1000000 non-null  float64\n",
      " 3   prev_address_months_count         1000000 non-null  int64  \n",
      " 4   current_address_months_count      1000000 non-null  int64  \n",
      " 5   customer_age                      1000000 non-null  int64  \n",
      " 6   days_since_request                1000000 non-null  float64\n",
      " 7   intended_balcon_amount            1000000 non-null  float64\n",
      " 8   payment_type                      1000000 non-null  object \n",
      " 9   zip_count_4w                      1000000 non-null  int64  \n",
      " 10  velocity_6h                       1000000 non-null  float64\n",
      " 11  velocity_24h                      1000000 non-null  float64\n",
      " 12  velocity_4w                       1000000 non-null  float64\n",
      " 13  bank_branch_count_8w              1000000 non-null  int64  \n",
      " 14  date_of_birth_distinct_emails_4w  1000000 non-null  int64  \n",
      " 15  employment_status                 1000000 non-null  object \n",
      " 16  credit_risk_score                 1000000 non-null  int64  \n",
      " 17  email_is_free                     1000000 non-null  int64  \n",
      " 18  housing_status                    1000000 non-null  object \n",
      " 19  phone_home_valid                  1000000 non-null  int64  \n",
      " 20  phone_mobile_valid                1000000 non-null  int64  \n",
      " 21  bank_months_count                 1000000 non-null  int64  \n",
      " 22  has_other_cards                   1000000 non-null  int64  \n",
      " 23  proposed_credit_limit             1000000 non-null  float64\n",
      " 24  foreign_request                   1000000 non-null  int64  \n",
      " 25  source                            1000000 non-null  object \n",
      " 26  session_length_in_minutes         1000000 non-null  float64\n",
      " 27  device_os                         1000000 non-null  object \n",
      " 28  keep_alive_session                1000000 non-null  int64  \n",
      " 29  device_distinct_emails_8w         1000000 non-null  int64  \n",
      " 30  device_fraud_count                1000000 non-null  int64  \n",
      " 31  month                             1000000 non-null  int64  \n",
      "dtypes: float64(9), int64(18), object(5)\n",
      "memory usage: 244.1+ MB\n",
      "None\n"
     ]
    }
   ],
   "source": [
    "print(dataset.info())"
   ]
  },
  {
   "cell_type": "code",
   "execution_count": 8,
   "id": "222613fe",
   "metadata": {
    "execution": {
     "iopub.execute_input": "2024-05-30T00:44:24.907861Z",
     "iopub.status.busy": "2024-05-30T00:44:24.907057Z",
     "iopub.status.idle": "2024-05-30T00:44:24.941721Z",
     "shell.execute_reply": "2024-05-30T00:44:24.940573Z"
    },
    "id": "Ao1nJTGxWadj",
    "outputId": "f5a957f1-0e6b-4e9e-d5f2-480559f22237",
    "papermill": {
     "duration": 0.051734,
     "end_time": "2024-05-30T00:44:24.944321",
     "exception": false,
     "start_time": "2024-05-30T00:44:24.892587",
     "status": "completed"
    },
    "tags": []
   },
   "outputs": [
    {
     "data": {
      "text/html": [
       "<div>\n",
       "<style scoped>\n",
       "    .dataframe tbody tr th:only-of-type {\n",
       "        vertical-align: middle;\n",
       "    }\n",
       "\n",
       "    .dataframe tbody tr th {\n",
       "        vertical-align: top;\n",
       "    }\n",
       "\n",
       "    .dataframe thead th {\n",
       "        text-align: right;\n",
       "    }\n",
       "</style>\n",
       "<table border=\"1\" class=\"dataframe\">\n",
       "  <thead>\n",
       "    <tr style=\"text-align: right;\">\n",
       "      <th></th>\n",
       "      <th>fraud_bool</th>\n",
       "      <th>income</th>\n",
       "      <th>name_email_similarity</th>\n",
       "      <th>prev_address_months_count</th>\n",
       "      <th>current_address_months_count</th>\n",
       "      <th>customer_age</th>\n",
       "      <th>days_since_request</th>\n",
       "      <th>intended_balcon_amount</th>\n",
       "      <th>payment_type</th>\n",
       "      <th>zip_count_4w</th>\n",
       "      <th>...</th>\n",
       "      <th>has_other_cards</th>\n",
       "      <th>proposed_credit_limit</th>\n",
       "      <th>foreign_request</th>\n",
       "      <th>source</th>\n",
       "      <th>session_length_in_minutes</th>\n",
       "      <th>device_os</th>\n",
       "      <th>keep_alive_session</th>\n",
       "      <th>device_distinct_emails_8w</th>\n",
       "      <th>device_fraud_count</th>\n",
       "      <th>month</th>\n",
       "    </tr>\n",
       "  </thead>\n",
       "  <tbody>\n",
       "    <tr>\n",
       "      <th>0</th>\n",
       "      <td>0</td>\n",
       "      <td>0.3</td>\n",
       "      <td>0.986506</td>\n",
       "      <td>-1</td>\n",
       "      <td>25</td>\n",
       "      <td>40</td>\n",
       "      <td>0.006735</td>\n",
       "      <td>102.453711</td>\n",
       "      <td>AA</td>\n",
       "      <td>1059</td>\n",
       "      <td>...</td>\n",
       "      <td>0</td>\n",
       "      <td>1500.0</td>\n",
       "      <td>0</td>\n",
       "      <td>INTERNET</td>\n",
       "      <td>16.224843</td>\n",
       "      <td>linux</td>\n",
       "      <td>1</td>\n",
       "      <td>1</td>\n",
       "      <td>0</td>\n",
       "      <td>0</td>\n",
       "    </tr>\n",
       "    <tr>\n",
       "      <th>1</th>\n",
       "      <td>0</td>\n",
       "      <td>0.8</td>\n",
       "      <td>0.617426</td>\n",
       "      <td>-1</td>\n",
       "      <td>89</td>\n",
       "      <td>20</td>\n",
       "      <td>0.010095</td>\n",
       "      <td>-0.849551</td>\n",
       "      <td>AD</td>\n",
       "      <td>1658</td>\n",
       "      <td>...</td>\n",
       "      <td>0</td>\n",
       "      <td>1500.0</td>\n",
       "      <td>0</td>\n",
       "      <td>INTERNET</td>\n",
       "      <td>3.363854</td>\n",
       "      <td>other</td>\n",
       "      <td>1</td>\n",
       "      <td>1</td>\n",
       "      <td>0</td>\n",
       "      <td>0</td>\n",
       "    </tr>\n",
       "    <tr>\n",
       "      <th>2</th>\n",
       "      <td>0</td>\n",
       "      <td>0.8</td>\n",
       "      <td>0.996707</td>\n",
       "      <td>9</td>\n",
       "      <td>14</td>\n",
       "      <td>40</td>\n",
       "      <td>0.012316</td>\n",
       "      <td>-1.490386</td>\n",
       "      <td>AB</td>\n",
       "      <td>1095</td>\n",
       "      <td>...</td>\n",
       "      <td>0</td>\n",
       "      <td>200.0</td>\n",
       "      <td>0</td>\n",
       "      <td>INTERNET</td>\n",
       "      <td>22.730559</td>\n",
       "      <td>windows</td>\n",
       "      <td>0</td>\n",
       "      <td>1</td>\n",
       "      <td>0</td>\n",
       "      <td>0</td>\n",
       "    </tr>\n",
       "    <tr>\n",
       "      <th>3</th>\n",
       "      <td>0</td>\n",
       "      <td>0.6</td>\n",
       "      <td>0.475100</td>\n",
       "      <td>11</td>\n",
       "      <td>14</td>\n",
       "      <td>30</td>\n",
       "      <td>0.006991</td>\n",
       "      <td>-1.863101</td>\n",
       "      <td>AB</td>\n",
       "      <td>3483</td>\n",
       "      <td>...</td>\n",
       "      <td>0</td>\n",
       "      <td>200.0</td>\n",
       "      <td>0</td>\n",
       "      <td>INTERNET</td>\n",
       "      <td>15.215816</td>\n",
       "      <td>linux</td>\n",
       "      <td>1</td>\n",
       "      <td>1</td>\n",
       "      <td>0</td>\n",
       "      <td>0</td>\n",
       "    </tr>\n",
       "    <tr>\n",
       "      <th>4</th>\n",
       "      <td>0</td>\n",
       "      <td>0.9</td>\n",
       "      <td>0.842307</td>\n",
       "      <td>-1</td>\n",
       "      <td>29</td>\n",
       "      <td>40</td>\n",
       "      <td>5.742626</td>\n",
       "      <td>47.152498</td>\n",
       "      <td>AA</td>\n",
       "      <td>2339</td>\n",
       "      <td>...</td>\n",
       "      <td>0</td>\n",
       "      <td>200.0</td>\n",
       "      <td>0</td>\n",
       "      <td>INTERNET</td>\n",
       "      <td>3.743048</td>\n",
       "      <td>other</td>\n",
       "      <td>0</td>\n",
       "      <td>1</td>\n",
       "      <td>0</td>\n",
       "      <td>0</td>\n",
       "    </tr>\n",
       "  </tbody>\n",
       "</table>\n",
       "<p>5 rows × 32 columns</p>\n",
       "</div>"
      ],
      "text/plain": [
       "   fraud_bool  income  name_email_similarity  prev_address_months_count  \\\n",
       "0           0     0.3               0.986506                         -1   \n",
       "1           0     0.8               0.617426                         -1   \n",
       "2           0     0.8               0.996707                          9   \n",
       "3           0     0.6               0.475100                         11   \n",
       "4           0     0.9               0.842307                         -1   \n",
       "\n",
       "   current_address_months_count  customer_age  days_since_request  \\\n",
       "0                            25            40            0.006735   \n",
       "1                            89            20            0.010095   \n",
       "2                            14            40            0.012316   \n",
       "3                            14            30            0.006991   \n",
       "4                            29            40            5.742626   \n",
       "\n",
       "   intended_balcon_amount payment_type  zip_count_4w  ...  has_other_cards  \\\n",
       "0              102.453711           AA          1059  ...                0   \n",
       "1               -0.849551           AD          1658  ...                0   \n",
       "2               -1.490386           AB          1095  ...                0   \n",
       "3               -1.863101           AB          3483  ...                0   \n",
       "4               47.152498           AA          2339  ...                0   \n",
       "\n",
       "   proposed_credit_limit  foreign_request    source  \\\n",
       "0                 1500.0                0  INTERNET   \n",
       "1                 1500.0                0  INTERNET   \n",
       "2                  200.0                0  INTERNET   \n",
       "3                  200.0                0  INTERNET   \n",
       "4                  200.0                0  INTERNET   \n",
       "\n",
       "   session_length_in_minutes device_os  keep_alive_session  \\\n",
       "0                  16.224843     linux                   1   \n",
       "1                   3.363854     other                   1   \n",
       "2                  22.730559   windows                   0   \n",
       "3                  15.215816     linux                   1   \n",
       "4                   3.743048     other                   0   \n",
       "\n",
       "   device_distinct_emails_8w device_fraud_count  month  \n",
       "0                          1                  0      0  \n",
       "1                          1                  0      0  \n",
       "2                          1                  0      0  \n",
       "3                          1                  0      0  \n",
       "4                          1                  0      0  \n",
       "\n",
       "[5 rows x 32 columns]"
      ]
     },
     "execution_count": 8,
     "metadata": {},
     "output_type": "execute_result"
    }
   ],
   "source": [
    "dataset.head(5)"
   ]
  },
  {
   "cell_type": "markdown",
   "id": "25da8921",
   "metadata": {
    "id": "zIuqPC1YXIvy",
    "papermill": {
     "duration": 0.012005,
     "end_time": "2024-05-30T00:44:24.969099",
     "exception": false,
     "start_time": "2024-05-30T00:44:24.957094",
     "status": "completed"
    },
    "tags": []
   },
   "source": [
    "### Handling Missing Numerical Data  "
   ]
  },
  {
   "cell_type": "code",
   "execution_count": 9,
   "id": "7adc748f",
   "metadata": {
    "execution": {
     "iopub.execute_input": "2024-05-30T00:44:24.995488Z",
     "iopub.status.busy": "2024-05-30T00:44:24.995113Z",
     "iopub.status.idle": "2024-05-30T00:44:26.102527Z",
     "shell.execute_reply": "2024-05-30T00:44:26.101129Z"
    },
    "id": "oeQnePgbXKKt",
    "outputId": "0b972bc1-acf8-4f4b-d6e3-a3a155a1f509",
    "papermill": {
     "duration": 1.12366,
     "end_time": "2024-05-30T00:44:26.105020",
     "exception": false,
     "start_time": "2024-05-30T00:44:24.981360",
     "status": "completed"
    },
    "tags": []
   },
   "outputs": [
    {
     "name": "stdout",
     "output_type": "stream",
     "text": [
      "null-count = 0 and na-count = 0 \n"
     ]
    }
   ],
   "source": [
    "print(f'null-count = {dataset.isnull().sum().sum()} and na-count = {dataset.isna().sum().sum()} ')"
   ]
  },
  {
   "cell_type": "code",
   "execution_count": 10,
   "id": "2eae6ce0",
   "metadata": {
    "execution": {
     "iopub.execute_input": "2024-05-30T00:44:26.131142Z",
     "iopub.status.busy": "2024-05-30T00:44:26.130736Z",
     "iopub.status.idle": "2024-05-30T00:44:27.547706Z",
     "shell.execute_reply": "2024-05-30T00:44:27.546721Z"
    },
    "id": "vrnlSYTiXLvL",
    "papermill": {
     "duration": 1.43328,
     "end_time": "2024-05-30T00:44:27.550427",
     "exception": false,
     "start_time": "2024-05-30T00:44:26.117147",
     "status": "completed"
    },
    "tags": []
   },
   "outputs": [],
   "source": [
    "from sklearn.impute import SimpleImputer\n",
    "imputer = SimpleImputer(missing_values = np.nan , strategy='mean')"
   ]
  },
  {
   "cell_type": "code",
   "execution_count": 11,
   "id": "242b436a",
   "metadata": {
    "execution": {
     "iopub.execute_input": "2024-05-30T00:44:27.577060Z",
     "iopub.status.busy": "2024-05-30T00:44:27.576585Z",
     "iopub.status.idle": "2024-05-30T00:44:27.656592Z",
     "shell.execute_reply": "2024-05-30T00:44:27.655018Z"
    },
    "id": "jl7KjmrlX1gz",
    "outputId": "e4d26ae4-26c1-48c6-9ef8-0d240c21f386",
    "papermill": {
     "duration": 0.096623,
     "end_time": "2024-05-30T00:44:27.659435",
     "exception": false,
     "start_time": "2024-05-30T00:44:27.562812",
     "status": "completed"
    },
    "tags": []
   },
   "outputs": [
    {
     "name": "stdout",
     "output_type": "stream",
     "text": [
      "Index(['fraud_bool', 'income', 'name_email_similarity',\n",
      "       'prev_address_months_count', 'current_address_months_count',\n",
      "       'customer_age', 'days_since_request', 'intended_balcon_amount',\n",
      "       'zip_count_4w', 'velocity_6h', 'velocity_24h', 'velocity_4w',\n",
      "       'bank_branch_count_8w', 'date_of_birth_distinct_emails_4w',\n",
      "       'credit_risk_score', 'email_is_free', 'phone_home_valid',\n",
      "       'phone_mobile_valid', 'bank_months_count', 'has_other_cards',\n",
      "       'proposed_credit_limit', 'foreign_request', 'session_length_in_minutes',\n",
      "       'keep_alive_session', 'device_distinct_emails_8w', 'device_fraud_count',\n",
      "       'month'],\n",
      "      dtype='object')\n"
     ]
    }
   ],
   "source": [
    "numerical_cols = dataset.select_dtypes(include = ['float64' , 'int64']).columns\n",
    "print(numerical_cols)"
   ]
  },
  {
   "cell_type": "code",
   "execution_count": 12,
   "id": "bebf372c",
   "metadata": {
    "execution": {
     "iopub.execute_input": "2024-05-30T00:44:27.686922Z",
     "iopub.status.busy": "2024-05-30T00:44:27.686520Z",
     "iopub.status.idle": "2024-05-30T00:44:28.394138Z",
     "shell.execute_reply": "2024-05-30T00:44:28.393087Z"
    },
    "id": "Ca4cDDYxYf5K",
    "papermill": {
     "duration": 0.724895,
     "end_time": "2024-05-30T00:44:28.396999",
     "exception": false,
     "start_time": "2024-05-30T00:44:27.672104",
     "status": "completed"
    },
    "tags": []
   },
   "outputs": [],
   "source": [
    "imputer.fit(dataset[numerical_cols])\n",
    "dataset[numerical_cols] = imputer.transform(dataset[numerical_cols])"
   ]
  },
  {
   "cell_type": "code",
   "execution_count": 13,
   "id": "634a5321",
   "metadata": {
    "execution": {
     "iopub.execute_input": "2024-05-30T00:44:28.424485Z",
     "iopub.status.busy": "2024-05-30T00:44:28.424060Z",
     "iopub.status.idle": "2024-05-30T00:44:29.578595Z",
     "shell.execute_reply": "2024-05-30T00:44:29.577414Z"
    },
    "id": "DJ2RId4DZe1P",
    "outputId": "c9bfe581-952d-4ba9-ee14-6e3a7e6bdc83",
    "papermill": {
     "duration": 1.17171,
     "end_time": "2024-05-30T00:44:29.581432",
     "exception": false,
     "start_time": "2024-05-30T00:44:28.409722",
     "status": "completed"
    },
    "tags": []
   },
   "outputs": [
    {
     "name": "stdout",
     "output_type": "stream",
     "text": [
      "null-count = 0 and na-count = 0 \n"
     ]
    }
   ],
   "source": [
    "print(f'null-count = {dataset.isnull().sum().sum()} and na-count = {dataset.isna().sum().sum()} ')"
   ]
  },
  {
   "cell_type": "markdown",
   "id": "9402ebf2",
   "metadata": {
    "id": "ova3Ym689M5M",
    "papermill": {
     "duration": 0.012355,
     "end_time": "2024-05-30T00:44:29.606529",
     "exception": false,
     "start_time": "2024-05-30T00:44:29.594174",
     "status": "completed"
    },
    "tags": []
   },
   "source": [
    "### Encoding Categorical Data\n"
   ]
  },
  {
   "cell_type": "code",
   "execution_count": 14,
   "id": "ebb7a440",
   "metadata": {
    "execution": {
     "iopub.execute_input": "2024-05-30T00:44:29.634079Z",
     "iopub.status.busy": "2024-05-30T00:44:29.633660Z",
     "iopub.status.idle": "2024-05-30T00:44:29.647024Z",
     "shell.execute_reply": "2024-05-30T00:44:29.645828Z"
    },
    "id": "KCL2Ihnz9R4t",
    "papermill": {
     "duration": 0.030872,
     "end_time": "2024-05-30T00:44:29.649882",
     "exception": false,
     "start_time": "2024-05-30T00:44:29.619010",
     "status": "completed"
    },
    "tags": []
   },
   "outputs": [],
   "source": [
    "from sklearn.compose import ColumnTransformer\n",
    "from sklearn.preprocessing import OneHotEncoder"
   ]
  },
  {
   "cell_type": "code",
   "execution_count": 15,
   "id": "ce8ca53f",
   "metadata": {
    "execution": {
     "iopub.execute_input": "2024-05-30T00:44:29.677354Z",
     "iopub.status.busy": "2024-05-30T00:44:29.676523Z",
     "iopub.status.idle": "2024-05-30T00:44:29.833132Z",
     "shell.execute_reply": "2024-05-30T00:44:29.831891Z"
    },
    "id": "qY_D4ymL9dK3",
    "outputId": "1825b647-c4bd-4756-f893-448e38a07558",
    "papermill": {
     "duration": 0.173271,
     "end_time": "2024-05-30T00:44:29.835711",
     "exception": false,
     "start_time": "2024-05-30T00:44:29.662440",
     "status": "completed"
    },
    "tags": []
   },
   "outputs": [
    {
     "name": "stdout",
     "output_type": "stream",
     "text": [
      "[8, 15, 18, 25, 27]\n"
     ]
    }
   ],
   "source": [
    "cat_vals = dataset.select_dtypes(include='object').columns\n",
    "cat_indices = [dataset.columns.get_loc(col) for col in cat_vals]\n",
    "\n",
    "print(cat_indices)"
   ]
  },
  {
   "cell_type": "code",
   "execution_count": 16,
   "id": "4464e4a3",
   "metadata": {
    "execution": {
     "iopub.execute_input": "2024-05-30T00:44:29.862798Z",
     "iopub.status.busy": "2024-05-30T00:44:29.862358Z",
     "iopub.status.idle": "2024-05-30T00:44:31.970500Z",
     "shell.execute_reply": "2024-05-30T00:44:31.969474Z"
    },
    "papermill": {
     "duration": 2.124968,
     "end_time": "2024-05-30T00:44:31.973342",
     "exception": false,
     "start_time": "2024-05-30T00:44:29.848374",
     "status": "completed"
    },
    "tags": []
   },
   "outputs": [],
   "source": [
    "X = dataset.iloc[: , 1:].values\n",
    "y = dataset.iloc[: , 0].values"
   ]
  },
  {
   "cell_type": "code",
   "execution_count": 17,
   "id": "5e37bbf5",
   "metadata": {
    "execution": {
     "iopub.execute_input": "2024-05-30T00:44:32.001077Z",
     "iopub.status.busy": "2024-05-30T00:44:32.000614Z",
     "iopub.status.idle": "2024-05-30T00:45:51.937755Z",
     "shell.execute_reply": "2024-05-30T00:45:51.936394Z"
    },
    "id": "BspukAmTFtGA",
    "outputId": "6f2b1419-3f29-44a9-9808-d51c390501ae",
    "papermill": {
     "duration": 79.953952,
     "end_time": "2024-05-30T00:45:51.940702",
     "exception": false,
     "start_time": "2024-05-30T00:44:31.986750",
     "status": "completed"
    },
    "tags": []
   },
   "outputs": [],
   "source": [
    "# ct = ColumnTransformer(transformers=[('encoder', OneHotEncoder(), cat_indices)], remainder='passthrough')\n",
    "# X = np.array(ct.fit_transform(X))\n",
    "\n",
    "onehotencoder = OneHotEncoder(categories = 'auto')\n",
    "X = onehotencoder.fit_transform(X)"
   ]
  },
  {
   "cell_type": "markdown",
   "id": "5957bbe9",
   "metadata": {
    "id": "QjsgAOn4o7J3",
    "papermill": {
     "duration": 0.012207,
     "end_time": "2024-05-30T00:45:51.965846",
     "exception": false,
     "start_time": "2024-05-30T00:45:51.953639",
     "status": "completed"
    },
    "tags": []
   },
   "source": [
    "### Train and Test Dataset"
   ]
  },
  {
   "cell_type": "code",
   "execution_count": 18,
   "id": "9846065e",
   "metadata": {
    "execution": {
     "iopub.execute_input": "2024-05-30T00:45:51.992804Z",
     "iopub.status.busy": "2024-05-30T00:45:51.992393Z",
     "iopub.status.idle": "2024-05-30T00:45:52.293493Z",
     "shell.execute_reply": "2024-05-30T00:45:52.292339Z"
    },
    "id": "dvS6yNEvo_LS",
    "papermill": {
     "duration": 0.317925,
     "end_time": "2024-05-30T00:45:52.296377",
     "exception": false,
     "start_time": "2024-05-30T00:45:51.978452",
     "status": "completed"
    },
    "tags": []
   },
   "outputs": [],
   "source": [
    "from sklearn.model_selection import train_test_split\n",
    "X_train , X_test , y_train , y_test = train_test_split(X , y , test_size = 0.2 , random_state = 1)"
   ]
  },
  {
   "cell_type": "code",
   "execution_count": 19,
   "id": "387f01bc",
   "metadata": {
    "execution": {
     "iopub.execute_input": "2024-05-30T00:45:52.324768Z",
     "iopub.status.busy": "2024-05-30T00:45:52.323826Z",
     "iopub.status.idle": "2024-05-30T00:45:52.558501Z",
     "shell.execute_reply": "2024-05-30T00:45:52.557385Z"
    },
    "id": "hwQAwLmTpT5o",
    "papermill": {
     "duration": 0.252162,
     "end_time": "2024-05-30T00:45:52.561156",
     "exception": false,
     "start_time": "2024-05-30T00:45:52.308994",
     "status": "completed"
    },
    "tags": []
   },
   "outputs": [
    {
     "name": "stdout",
     "output_type": "stream",
     "text": [
      "  (0, 5)\t1.0\n",
      "  (0, 472711)\t1.0\n",
      "  (0, 998870)\t1.0\n",
      "  (0, 999287)\t1.0\n",
      "  (0, 999669)\t1.0\n",
      "  (0, 1151107)\t1.0\n",
      "  (0, 1992872)\t1.0\n",
      "  (0, 2983977)\t1.0\n",
      "  (0, 2984993)\t1.0\n",
      "  (0, 3066100)\t1.0\n",
      "  (0, 4385742)\t1.0\n",
      "  (0, 5175056)\t1.0\n",
      "  (0, 5986234)\t1.0\n",
      "  (0, 5988575)\t1.0\n",
      "  (0, 5988600)\t1.0\n",
      "  (0, 5988793)\t1.0\n",
      "  (0, 5989158)\t1.0\n",
      "  (0, 5989161)\t1.0\n",
      "  (0, 5989167)\t1.0\n",
      "  (0, 5989169)\t1.0\n",
      "  (0, 5989173)\t1.0\n",
      "  (0, 5989203)\t1.0\n",
      "  (0, 5989206)\t1.0\n",
      "  (0, 5989217)\t1.0\n",
      "  (0, 5989219)\t1.0\n",
      "  :\t:\n",
      "  (799999, 2125925)\t1.0\n",
      "  (799999, 2983980)\t1.0\n",
      "  (799999, 2985606)\t1.0\n",
      "  (799999, 3691723)\t1.0\n",
      "  (799999, 4298512)\t1.0\n",
      "  (799999, 5926073)\t1.0\n",
      "  (799999, 5986245)\t1.0\n",
      "  (799999, 5988569)\t1.0\n",
      "  (799999, 5988602)\t1.0\n",
      "  (799999, 5988833)\t1.0\n",
      "  (799999, 5989158)\t1.0\n",
      "  (799999, 5989161)\t1.0\n",
      "  (799999, 5989167)\t1.0\n",
      "  (799999, 5989168)\t1.0\n",
      "  (799999, 5989185)\t1.0\n",
      "  (799999, 5989203)\t1.0\n",
      "  (799999, 5989206)\t1.0\n",
      "  (799999, 5989217)\t1.0\n",
      "  (799999, 5989219)\t1.0\n",
      "  (799999, 6677352)\t1.0\n",
      "  (799999, 6984110)\t1.0\n",
      "  (799999, 6984114)\t1.0\n",
      "  (799999, 6984117)\t1.0\n",
      "  (799999, 6984119)\t1.0\n",
      "  (799999, 6984120)\t1.0\n"
     ]
    }
   ],
   "source": [
    "print(X_train)"
   ]
  },
  {
   "cell_type": "code",
   "execution_count": 20,
   "id": "2d949b3f",
   "metadata": {
    "execution": {
     "iopub.execute_input": "2024-05-30T00:45:52.588790Z",
     "iopub.status.busy": "2024-05-30T00:45:52.587873Z",
     "iopub.status.idle": "2024-05-30T00:45:52.652073Z",
     "shell.execute_reply": "2024-05-30T00:45:52.650891Z"
    },
    "id": "SqU38wEppVBI",
    "papermill": {
     "duration": 0.081286,
     "end_time": "2024-05-30T00:45:52.655268",
     "exception": false,
     "start_time": "2024-05-30T00:45:52.573982",
     "status": "completed"
    },
    "tags": []
   },
   "outputs": [
    {
     "name": "stdout",
     "output_type": "stream",
     "text": [
      "  (0, 0)\t1.0\n",
      "  (0, 765805)\t1.0\n",
      "  (0, 998870)\t1.0\n",
      "  (0, 999437)\t1.0\n",
      "  (0, 999668)\t1.0\n",
      "  (0, 1290142)\t1.0\n",
      "  (0, 2328999)\t1.0\n",
      "  (0, 2983978)\t1.0\n",
      "  (0, 2986551)\t1.0\n",
      "  (0, 3581756)\t1.0\n",
      "  (0, 4094268)\t1.0\n",
      "  (0, 5684896)\t1.0\n",
      "  (0, 5986244)\t1.0\n",
      "  (0, 5988564)\t1.0\n",
      "  (0, 5988599)\t1.0\n",
      "  (0, 5988984)\t1.0\n",
      "  (0, 5989157)\t1.0\n",
      "  (0, 5989163)\t1.0\n",
      "  (0, 5989166)\t1.0\n",
      "  (0, 5989169)\t1.0\n",
      "  (0, 5989181)\t1.0\n",
      "  (0, 5989203)\t1.0\n",
      "  (0, 5989213)\t1.0\n",
      "  (0, 5989217)\t1.0\n",
      "  (0, 5989219)\t1.0\n",
      "  :\t:\n",
      "  (199999, 2026183)\t1.0\n",
      "  (199999, 2983978)\t1.0\n",
      "  (199999, 2987528)\t1.0\n",
      "  (199999, 3028851)\t1.0\n",
      "  (199999, 4742344)\t1.0\n",
      "  (199999, 5954576)\t1.0\n",
      "  (199999, 5986244)\t1.0\n",
      "  (199999, 5988568)\t1.0\n",
      "  (199999, 5988600)\t1.0\n",
      "  (199999, 5988891)\t1.0\n",
      "  (199999, 5989158)\t1.0\n",
      "  (199999, 5989161)\t1.0\n",
      "  (199999, 5989167)\t1.0\n",
      "  (199999, 5989168)\t1.0\n",
      "  (199999, 5989196)\t1.0\n",
      "  (199999, 5989203)\t1.0\n",
      "  (199999, 5989209)\t1.0\n",
      "  (199999, 5989217)\t1.0\n",
      "  (199999, 5989219)\t1.0\n",
      "  (199999, 6379104)\t1.0\n",
      "  (199999, 6984111)\t1.0\n",
      "  (199999, 6984114)\t1.0\n",
      "  (199999, 6984117)\t1.0\n",
      "  (199999, 6984119)\t1.0\n",
      "  (199999, 6984120)\t1.0\n"
     ]
    }
   ],
   "source": [
    "print(X_test)"
   ]
  },
  {
   "cell_type": "code",
   "execution_count": 21,
   "id": "1516f406",
   "metadata": {
    "execution": {
     "iopub.execute_input": "2024-05-30T00:45:52.683178Z",
     "iopub.status.busy": "2024-05-30T00:45:52.682029Z",
     "iopub.status.idle": "2024-05-30T00:45:52.688231Z",
     "shell.execute_reply": "2024-05-30T00:45:52.686994Z"
    },
    "id": "2nbnggwipWZU",
    "papermill": {
     "duration": 0.02245,
     "end_time": "2024-05-30T00:45:52.690633",
     "exception": false,
     "start_time": "2024-05-30T00:45:52.668183",
     "status": "completed"
    },
    "tags": []
   },
   "outputs": [
    {
     "name": "stdout",
     "output_type": "stream",
     "text": [
      "[0. 0. 0. ... 0. 0. 0.]\n"
     ]
    }
   ],
   "source": [
    "print(y_train)"
   ]
  },
  {
   "cell_type": "code",
   "execution_count": 22,
   "id": "e467d993",
   "metadata": {
    "execution": {
     "iopub.execute_input": "2024-05-30T00:45:52.720099Z",
     "iopub.status.busy": "2024-05-30T00:45:52.719664Z",
     "iopub.status.idle": "2024-05-30T00:45:52.725455Z",
     "shell.execute_reply": "2024-05-30T00:45:52.724344Z"
    },
    "id": "lityPbM4pYeB",
    "papermill": {
     "duration": 0.023212,
     "end_time": "2024-05-30T00:45:52.728583",
     "exception": false,
     "start_time": "2024-05-30T00:45:52.705371",
     "status": "completed"
    },
    "tags": []
   },
   "outputs": [
    {
     "name": "stdout",
     "output_type": "stream",
     "text": [
      "[0. 0. 0. ... 0. 0. 0.]\n"
     ]
    }
   ],
   "source": [
    "print(y_test)"
   ]
  },
  {
   "cell_type": "markdown",
   "id": "78538806",
   "metadata": {
    "id": "VUZ5kfjytKpu",
    "papermill": {
     "duration": 0.012632,
     "end_time": "2024-05-30T00:45:52.754269",
     "exception": false,
     "start_time": "2024-05-30T00:45:52.741637",
     "status": "completed"
    },
    "tags": []
   },
   "source": [
    "### Scaling"
   ]
  },
  {
   "cell_type": "code",
   "execution_count": 23,
   "id": "df4d29f9",
   "metadata": {
    "execution": {
     "iopub.execute_input": "2024-05-30T00:45:52.782569Z",
     "iopub.status.busy": "2024-05-30T00:45:52.781385Z",
     "iopub.status.idle": "2024-05-30T00:45:52.787317Z",
     "shell.execute_reply": "2024-05-30T00:45:52.786074Z"
    },
    "id": "jYljFmautLmX",
    "papermill": {
     "duration": 0.022258,
     "end_time": "2024-05-30T00:45:52.789530",
     "exception": false,
     "start_time": "2024-05-30T00:45:52.767272",
     "status": "completed"
    },
    "tags": []
   },
   "outputs": [],
   "source": [
    "from sklearn.preprocessing import StandardScaler\n",
    "sc = StandardScaler(with_mean = False)"
   ]
  },
  {
   "cell_type": "code",
   "execution_count": 24,
   "id": "bb12577a",
   "metadata": {
    "execution": {
     "iopub.execute_input": "2024-05-30T00:45:52.817752Z",
     "iopub.status.busy": "2024-05-30T00:45:52.816650Z",
     "iopub.status.idle": "2024-05-30T00:45:55.468110Z",
     "shell.execute_reply": "2024-05-30T00:45:55.467121Z"
    },
    "id": "_7bf6sBR3MHq",
    "papermill": {
     "duration": 2.668367,
     "end_time": "2024-05-30T00:45:55.470772",
     "exception": false,
     "start_time": "2024-05-30T00:45:52.802405",
     "status": "completed"
    },
    "tags": []
   },
   "outputs": [],
   "source": [
    "X_train = sc.fit_transform(X_train)\n",
    "X_test = sc.transform(X_test)"
   ]
  },
  {
   "cell_type": "code",
   "execution_count": 25,
   "id": "9f24f480",
   "metadata": {
    "execution": {
     "iopub.execute_input": "2024-05-30T00:45:55.498518Z",
     "iopub.status.busy": "2024-05-30T00:45:55.498149Z",
     "iopub.status.idle": "2024-05-30T00:45:55.724205Z",
     "shell.execute_reply": "2024-05-30T00:45:55.722950Z"
    },
    "id": "Vnt1cqJj3XKs",
    "papermill": {
     "duration": 0.243143,
     "end_time": "2024-05-30T00:45:55.726894",
     "exception": false,
     "start_time": "2024-05-30T00:45:55.483751",
     "status": "completed"
    },
    "tags": []
   },
   "outputs": [
    {
     "name": "stdout",
     "output_type": "stream",
     "text": [
      "  (0, 5)\t3.1719199908964955\n",
      "  (0, 472711)\t894.4277500174342\n",
      "  (0, 998870)\t2.209876959644321\n",
      "  (0, 999287)\t10.788832420565411\n",
      "  (0, 999669)\t2.1602926533451443\n",
      "  (0, 1151107)\t894.4277500174342\n",
      "  (0, 1992872)\t894.4277500174342\n",
      "  (0, 2983977)\t2.2847394008788293\n",
      "  (0, 2984993)\t38.01373454791739\n",
      "  (0, 3066100)\t894.4277500174342\n",
      "  (0, 4385742)\t894.4277500174342\n",
      "  (0, 5175056)\t894.4277500174342\n",
      "  (0, 5986234)\t2.8061272717784975\n",
      "  (0, 5988575)\t6.328561381030241\n",
      "  (0, 5988600)\t2.8984543703068324\n",
      "  (0, 5988793)\t23.93405060287426\n",
      "  (0, 5989158)\t2.003672458312352\n",
      "  (0, 5989161)\t2.0687555572065204\n",
      "  (0, 5989167)\t2.028043778274169\n",
      "  (0, 5989169)\t3.1867213589194483\n",
      "  (0, 5989173)\t10.86996178049368\n",
      "  (0, 5989203)\t2.402479141921887\n",
      "  (0, 5989206)\t2.0541818158382323\n",
      "  (0, 5989217)\t6.375847258697159\n",
      "  (0, 5989219)\t11.906011481436837\n",
      "  :\t:\n",
      "  (799999, 2125925)\t632.4563226045733\n",
      "  (799999, 2983980)\t3.0901350494581297\n",
      "  (799999, 2985606)\t53.46160498213094\n",
      "  (799999, 3691723)\t894.4277500174342\n",
      "  (799999, 4298512)\t894.4277500174342\n",
      "  (799999, 5926073)\t894.4277500174342\n",
      "  (799999, 5986245)\t5.819051285795729\n",
      "  (799999, 5988569)\t4.1222304624337145\n",
      "  (799999, 5988602)\t6.21702068770444\n",
      "  (799999, 5988833)\t15.574018458017242\n",
      "  (799999, 5989158)\t2.003672458312352\n",
      "  (799999, 5989161)\t2.0687555572065204\n",
      "  (799999, 5989167)\t2.028043778274169\n",
      "  (799999, 5989168)\t3.1867213589195282\n",
      "  (799999, 5989185)\t4.243910793749013\n",
      "  (799999, 5989203)\t2.402479141921887\n",
      "  (799999, 5989206)\t2.0541818158382323\n",
      "  (799999, 5989217)\t6.375847258697159\n",
      "  (799999, 5989219)\t11.906011481436837\n",
      "  (799999, 6677352)\t894.4277500174342\n",
      "  (799999, 6984110)\t2.1072337926066407\n",
      "  (799999, 6984114)\t2.023862268660266\n",
      "  (799999, 6984117)\t5.681603585584516\n",
      "  (799999, 6984119)\t1.0\n",
      "  (799999, 6984120)\t2.950138400059655\n"
     ]
    }
   ],
   "source": [
    "print(X_train)"
   ]
  },
  {
   "cell_type": "code",
   "execution_count": 26,
   "id": "c07c1dc7",
   "metadata": {
    "execution": {
     "iopub.execute_input": "2024-05-30T00:45:55.755335Z",
     "iopub.status.busy": "2024-05-30T00:45:55.754536Z",
     "iopub.status.idle": "2024-05-30T00:45:55.815804Z",
     "shell.execute_reply": "2024-05-30T00:45:55.814274Z"
    },
    "papermill": {
     "duration": 0.078424,
     "end_time": "2024-05-30T00:45:55.818514",
     "exception": false,
     "start_time": "2024-05-30T00:45:55.740090",
     "status": "completed"
    },
    "tags": []
   },
   "outputs": [
    {
     "name": "stdout",
     "output_type": "stream",
     "text": [
      "  (0, 0)\t2.7459227229123466\n",
      "  (0, 765805)\t1.0\n",
      "  (0, 998870)\t2.209876959644321\n",
      "  (0, 999437)\t19.862267746689074\n",
      "  (0, 999668)\t2.3219969381024836\n",
      "  (0, 1290142)\t1.0\n",
      "  (0, 2328999)\t1.0\n",
      "  (0, 2983978)\t2.0708965810662487\n",
      "  (0, 2986551)\t80.00625073251734\n",
      "  (0, 3581756)\t1.0\n",
      "  (0, 4094268)\t1.0\n",
      "  (0, 5684896)\t1.0\n",
      "  (0, 5986244)\t5.7667157665321955\n",
      "  (0, 5988564)\t3.6741514726214204\n",
      "  (0, 5988599)\t2.25313872767876\n",
      "  (0, 5988984)\t19.585573308288392\n",
      "  (0, 5989157)\t2.0036724583051617\n",
      "  (0, 5989163)\t2.666744036331253\n",
      "  (0, 5989166)\t2.028043778271613\n",
      "  (0, 5989169)\t3.1867213589194483\n",
      "  (0, 5989181)\t6.585091743909768\n",
      "  (0, 5989203)\t2.402479141921887\n",
      "  (0, 5989213)\t2.834153090218451\n",
      "  (0, 5989217)\t6.375847258697159\n",
      "  (0, 5989219)\t11.906011481436837\n",
      "  :\t:\n",
      "  (199999, 2026183)\t1.0\n",
      "  (199999, 2983978)\t2.0708965810662487\n",
      "  (199999, 2987528)\t131.87988628039307\n",
      "  (199999, 3028851)\t1.0\n",
      "  (199999, 4742344)\t1.0\n",
      "  (199999, 5954576)\t1.0\n",
      "  (199999, 5986244)\t5.7667157665321955\n",
      "  (199999, 5988568)\t3.992363112625713\n",
      "  (199999, 5988600)\t2.8984543703068324\n",
      "  (199999, 5988891)\t12.532899013301948\n",
      "  (199999, 5989158)\t2.003672458312352\n",
      "  (199999, 5989161)\t2.0687555572065204\n",
      "  (199999, 5989167)\t2.028043778274169\n",
      "  (199999, 5989168)\t3.1867213589195282\n",
      "  (199999, 5989196)\t6.424879223550294\n",
      "  (199999, 5989203)\t2.402479141921887\n",
      "  (199999, 5989209)\t2.9203630726346415\n",
      "  (199999, 5989217)\t6.375847258697159\n",
      "  (199999, 5989219)\t11.906011481436837\n",
      "  (199999, 6379104)\t1.0\n",
      "  (199999, 6984111)\t2.2692613045135115\n",
      "  (199999, 6984114)\t2.023862268660266\n",
      "  (199999, 6984117)\t5.681603585584516\n",
      "  (199999, 6984119)\t1.0\n",
      "  (199999, 6984120)\t2.950138400059655\n"
     ]
    }
   ],
   "source": [
    "print(X_test)"
   ]
  },
  {
   "cell_type": "code",
   "execution_count": 27,
   "id": "5a286ba7",
   "metadata": {
    "execution": {
     "iopub.execute_input": "2024-05-30T00:45:55.847331Z",
     "iopub.status.busy": "2024-05-30T00:45:55.846880Z",
     "iopub.status.idle": "2024-05-30T00:45:55.852606Z",
     "shell.execute_reply": "2024-05-30T00:45:55.851297Z"
    },
    "papermill": {
     "duration": 0.023042,
     "end_time": "2024-05-30T00:45:55.855346",
     "exception": false,
     "start_time": "2024-05-30T00:45:55.832304",
     "status": "completed"
    },
    "tags": []
   },
   "outputs": [],
   "source": [
    "from sklearn.linear_model import LogisticRegression \n",
    "logistic_regressor  = LogisticRegression(max_iter=400)"
   ]
  },
  {
   "cell_type": "code",
   "execution_count": 28,
   "id": "feb5a014",
   "metadata": {
    "execution": {
     "iopub.execute_input": "2024-05-30T00:45:55.884190Z",
     "iopub.status.busy": "2024-05-30T00:45:55.883755Z",
     "iopub.status.idle": "2024-05-30T00:52:11.598020Z",
     "shell.execute_reply": "2024-05-30T00:52:11.596542Z"
    },
    "papermill": {
     "duration": 375.732709,
     "end_time": "2024-05-30T00:52:11.601531",
     "exception": false,
     "start_time": "2024-05-30T00:45:55.868822",
     "status": "completed"
    },
    "tags": []
   },
   "outputs": [],
   "source": [
    "logistic_regressor.fit(X_train , y_train)\n",
    "y_pred = logistic_regressor.predict(X_test)"
   ]
  },
  {
   "cell_type": "code",
   "execution_count": 29,
   "id": "3f9dd4d9",
   "metadata": {
    "execution": {
     "iopub.execute_input": "2024-05-30T00:52:11.633365Z",
     "iopub.status.busy": "2024-05-30T00:52:11.632969Z",
     "iopub.status.idle": "2024-05-30T00:52:11.637881Z",
     "shell.execute_reply": "2024-05-30T00:52:11.636586Z"
    },
    "papermill": {
     "duration": 0.021932,
     "end_time": "2024-05-30T00:52:11.640381",
     "exception": false,
     "start_time": "2024-05-30T00:52:11.618449",
     "status": "completed"
    },
    "tags": []
   },
   "outputs": [],
   "source": [
    "from sklearn.metrics import accuracy_score"
   ]
  },
  {
   "cell_type": "code",
   "execution_count": 30,
   "id": "aa24579b",
   "metadata": {
    "execution": {
     "iopub.execute_input": "2024-05-30T00:52:11.669826Z",
     "iopub.status.busy": "2024-05-30T00:52:11.668781Z",
     "iopub.status.idle": "2024-05-30T00:52:11.699325Z",
     "shell.execute_reply": "2024-05-30T00:52:11.698004Z"
    },
    "papermill": {
     "duration": 0.048227,
     "end_time": "2024-05-30T00:52:11.702103",
     "exception": false,
     "start_time": "2024-05-30T00:52:11.653876",
     "status": "completed"
    },
    "tags": []
   },
   "outputs": [
    {
     "name": "stdout",
     "output_type": "stream",
     "text": [
      "Accuracy for Logistic Regression is : 0.98884\n"
     ]
    }
   ],
   "source": [
    "log_accuracy = accuracy_score(y_test, y_pred)\n",
    "\n",
    "print(\"Accuracy for Logistic Regression is :\", log_accuracy)"
   ]
  }
 ],
 "metadata": {
  "colab": {
   "provenance": []
  },
  "kaggle": {
   "accelerator": "none",
   "dataSources": [
    {
     "datasetId": 2673949,
     "sourceId": 7082010,
     "sourceType": "datasetVersion"
    }
   ],
   "dockerImageVersionId": 30699,
   "isGpuEnabled": false,
   "isInternetEnabled": true,
   "language": "python",
   "sourceType": "notebook"
  },
  "kernelspec": {
   "display_name": "Python 3",
   "language": "python",
   "name": "python3"
  },
  "language_info": {
   "codemirror_mode": {
    "name": "ipython",
    "version": 3
   },
   "file_extension": ".py",
   "mimetype": "text/x-python",
   "name": "python",
   "nbconvert_exporter": "python",
   "pygments_lexer": "ipython3",
   "version": "3.10.13"
  },
  "papermill": {
   "default_parameters": {},
   "duration": 480.024876,
   "end_time": "2024-05-30T00:52:12.740411",
   "environment_variables": {},
   "exception": null,
   "input_path": "__notebook__.ipynb",
   "output_path": "__notebook__.ipynb",
   "parameters": {},
   "start_time": "2024-05-30T00:44:12.715535",
   "version": "2.5.0"
  }
 },
 "nbformat": 4,
 "nbformat_minor": 5
}
